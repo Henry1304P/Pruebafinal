{
 "cells": [
  {
   "cell_type": "code",
   "execution_count": 3,
   "id": "e2d6a0ef",
   "metadata": {},
   "outputs": [],
   "source": [
    "import numpy as np\n",
    "import os\n",
    "import re\n",
    "import matplotlib.pyplot as plt\n",
    "%matplotlib inline\n",
    "from sklearn.model_selection import train_test_split\n",
    "from sklearn.metrics import classification_report\n",
    "import keras\n",
    "from keras.utils import to_categorical\n",
    "from tensorflow.keras import Input\n",
    "from keras.models import Sequential,Model\n",
    "from keras.layers import Dense, Dropout, Flatten\n",
    "from keras.layers import Conv2D, MaxPooling2D\n",
    "from keras.layers import BatchNormalization\n",
    "from keras.layers import LeakyReLU\n",
    "from tensorflow import keras\n",
    "from keras_layer_normalization import LayerNormalization\n",
    "from keras.models import load_model\n",
    "from keras.preprocessing.image import ImageDataGenerator\n",
    "from mlxtend.plotting import plot_confusion_matrix\n",
    "from sklearn.metrics import confusion_matrix,f1_score,roc_curve, precision_score, recall_score, accuracy_score, roc_auc_score\n",
    "from sklearn import metrics\n",
    "from keras.models import load_model\n",
    "import tensorflow as tf\n"
   ]
  },
  {
   "cell_type": "code",
   "execution_count": 4,
   "id": "2d28de6d",
   "metadata": {
    "scrolled": true
   },
   "outputs": [
    {
     "name": "stdout",
     "output_type": "stream",
     "text": [
      "leyendo imagenes de  C:\\Users\\henry\\Downloads\\data\\train\\\n",
      "C:\\Users\\henry\\Downloads\\data\\train\\CLASS_02 1\n",
      "C:\\Users\\henry\\Downloads\\data\\train\\CLASS_03 62\n",
      "C:\\Users\\henry\\Downloads\\data\\train\\CLASS_04 213\n",
      "C:\\Users\\henry\\Downloads\\data\\train\\CLASS_05 105\n",
      "C:\\Users\\henry\\Downloads\\data\\train\\CLASS_06 949\n",
      "C:\\Users\\henry\\Downloads\\data\\train\\CLASS_07 37\n",
      "C:\\Users\\henry\\Downloads\\data\\train\\CLASS_08 204\n",
      "Directorios leidos: 7\n",
      "Imagenes en cada directorio [63, 213, 105, 949, 37, 204, 62]\n",
      "suma Total de imagenes en subdirs: 1633\n"
     ]
    }
   ],
   "source": [
    "dirname = os.path.join(os.getcwd(), 'C:\\\\Users\\\\henry\\\\Downloads\\\\data\\\\train')\n",
    "imgpath = dirname + os.sep \n",
    " \n",
    "images = []\n",
    "directories = []\n",
    "dircount = []\n",
    "prevRoot=''\n",
    "cant=0\n",
    " \n",
    "print(\"leyendo imagenes de \",imgpath)\n",
    " \n",
    "for root, dirnames, filenames in os.walk(imgpath):\n",
    "    for filename in filenames:\n",
    "        if re.search(\"\\.(jpg|jpeg|png|bmp|tiff)$\", filename):\n",
    "            cant=cant+1\n",
    "            filepath = os.path.join(root, filename)\n",
    "            image = plt.imread(filepath)\n",
    "            images.append(image)\n",
    "            b = \"Leyendo...\" + str(cant)\n",
    "            print (b, end=\"\\r\")\n",
    "            if prevRoot !=root:\n",
    "                print(root, cant)\n",
    "                prevRoot=root\n",
    "                directories.append(root)\n",
    "                dircount.append(cant)\n",
    "                cant=0\n",
    "dircount.append(cant)\n",
    " \n",
    "dircount = dircount[1:]\n",
    "dircount[0]=dircount[0]+1\n",
    "print('Directorios leidos:',len(directories))\n",
    "print(\"Imagenes en cada directorio\", dircount)\n",
    "print('suma Total de imagenes en subdirs:',sum(dircount))"
   ]
  },
  {
   "cell_type": "code",
   "execution_count": 44,
   "id": "54e1e5b0",
   "metadata": {},
   "outputs": [
    {
     "name": "stdout",
     "output_type": "stream",
     "text": [
      "Cantidad etiquetas creadas:  1633\n",
      "0 CLASS_02\n",
      "1 CLASS_03\n",
      "2 CLASS_04\n",
      "3 CLASS_05\n",
      "4 CLASS_06\n",
      "5 CLASS_07\n",
      "6 CLASS_08\n",
      "Total number of outputs :  7\n",
      "Output classes :  [0 1 2 3 4 5 6]\n"
     ]
    }
   ],
   "source": [
    "labels=[]\n",
    "indice=0\n",
    "for cantidad in dircount:\n",
    "    for i in range(cantidad):\n",
    "        labels.append(indice)\n",
    "    indice=indice+1\n",
    "print(\"Cantidad etiquetas creadas: \",len(labels))\n",
    " \n",
    "clases=[]\n",
    "indice=0\n",
    "for directorio in directories:\n",
    "    name = directorio.split(os.sep)\n",
    "    print(indice , name[len(name)-1])\n",
    "    clases.append(name[len(name)-1])\n",
    "    indice=indice+1\n",
    " \n",
    "y = np.array(labels)\n",
    "X = np.array(images, dtype=np.uint8) #convierto de lista a numpy\n",
    " \n",
    "# Find the unique numbers from the train labels\n",
    "classes = np.unique(y)\n",
    "nClasses = len(classes)\n",
    "print('Total number of outputs : ', nClasses)\n",
    "print('Output classes : ', classes)"
   ]
  },
  {
   "cell_type": "code",
   "execution_count": 6,
   "id": "7c5271b2",
   "metadata": {},
   "outputs": [
    {
     "name": "stdout",
     "output_type": "stream",
     "text": [
      "Training data shape :  (1306, 216, 384, 3) (1306,)\n",
      "Testing data shape :  (327, 216, 384, 3) (327,)\n",
      "Original label: 3\n",
      "After conversion to one-hot: [0. 0. 0. 1. 0. 0. 0.]\n",
      "(1044, 216, 384, 3) (262, 216, 384, 3) (1044, 7) (262, 7)\n"
     ]
    }
   ],
   "source": [
    "#Mezclar todo y crear los grupos de entrenamiento y testing\n",
    "train_X,test_X,train_Y,test_Y = train_test_split(X,y,test_size=0.2)\n",
    "print('Training data shape : ', train_X.shape, train_Y.shape)\n",
    "print('Testing data shape : ', test_X.shape, test_Y.shape)\n",
    " \n",
    "train_X = train_X.astype('float32')\n",
    "test_X = test_X.astype('float32')\n",
    "train_X = train_X / 255.\n",
    "test_X = test_X / 255.\n",
    " \n",
    "\n",
    "train_Y_one_hot = to_categorical(train_Y)\n",
    "test_Y_one_hot = to_categorical(test_Y)\n",
    " \n",
    "\n",
    "print('Original label:', train_Y[0])\n",
    "print('After conversion to one-hot:', train_Y_one_hot[0])\n",
    " \n",
    "train_X,valid_X,train_label,valid_label = train_test_split(train_X, train_Y_one_hot, test_size=0.2, random_state=13)\n",
    " \n",
    "print(train_X.shape,valid_X.shape,train_label.shape,valid_label.shape)"
   ]
  },
  {
   "cell_type": "code",
   "execution_count": 7,
   "id": "11e8fd9f",
   "metadata": {},
   "outputs": [],
   "source": [
    "from keras.layers import MaxPooling2D\n",
    "from keras.layers import Conv2D\n",
    "num_clases=len(labels)\n",
    "\n",
    "modelo=tf.keras.Sequential([\n",
    "    tf.keras.layers.Rescaling(1./255,input_shape=(300,300,3)),\n",
    "    tf.keras.layers.Conv2D(16,3,padding='same',activation='relu'),\n",
    "    tf.keras.layers.MaxPooling2D(),\n",
    "    tf.keras.layers.Conv2D(32,3,padding='same',activation='relu'),\n",
    "    tf.keras.layers.MaxPooling2D(),\n",
    "    tf.keras.layers.Conv2D(64,3,padding='same',activation='relu'),\n",
    "    tf.keras.layers.MaxPooling2D(),\n",
    "    tf.keras.layers.Flatten(),\n",
    "    tf.keras.layers.Dropout(0.2),\n",
    "    tf.keras.layers.Dense(128,activation='relu'),\n",
    "    tf.keras.layers.Dense(num_clases)\n",
    "])"
   ]
  },
  {
   "cell_type": "code",
   "execution_count": 8,
   "id": "e24a4b2e",
   "metadata": {},
   "outputs": [],
   "source": [
    "modelo.compile(optimizer='adam',\n",
    "               loss=tf.keras.losses.SparseCategoricalCrossentropy(from_logits=True),\n",
    "               metrics=['accuracy'])"
   ]
  },
  {
   "cell_type": "code",
   "execution_count": 9,
   "id": "89662120",
   "metadata": {},
   "outputs": [
    {
     "name": "stdout",
     "output_type": "stream",
     "text": [
      "Model: \"sequential\"\n",
      "_________________________________________________________________\n",
      " Layer (type)                Output Shape              Param #   \n",
      "=================================================================\n",
      " rescaling (Rescaling)       (None, 300, 300, 3)       0         \n",
      "                                                                 \n",
      " conv2d (Conv2D)             (None, 300, 300, 16)      448       \n",
      "                                                                 \n",
      " max_pooling2d (MaxPooling2  (None, 150, 150, 16)      0         \n",
      " D)                                                              \n",
      "                                                                 \n",
      " conv2d_1 (Conv2D)           (None, 150, 150, 32)      4640      \n",
      "                                                                 \n",
      " max_pooling2d_1 (MaxPoolin  (None, 75, 75, 32)        0         \n",
      " g2D)                                                            \n",
      "                                                                 \n",
      " conv2d_2 (Conv2D)           (None, 75, 75, 64)        18496     \n",
      "                                                                 \n",
      " max_pooling2d_2 (MaxPoolin  (None, 37, 37, 64)        0         \n",
      " g2D)                                                            \n",
      "                                                                 \n",
      " flatten (Flatten)           (None, 87616)             0         \n",
      "                                                                 \n",
      " dropout (Dropout)           (None, 87616)             0         \n",
      "                                                                 \n",
      " dense (Dense)               (None, 128)               11214976  \n",
      "                                                                 \n",
      " dense_1 (Dense)             (None, 1633)              210657    \n",
      "                                                                 \n",
      "=================================================================\n",
      "Total params: 11449217 (43.68 MB)\n",
      "Trainable params: 11449217 (43.68 MB)\n",
      "Non-trainable params: 0 (0.00 Byte)\n",
      "_________________________________________________________________\n"
     ]
    }
   ],
   "source": [
    "modelo.summary()"
   ]
  },
  {
   "cell_type": "code",
   "execution_count": 23,
   "id": "d9fb6e0f",
   "metadata": {},
   "outputs": [
    {
     "name": "stdout",
     "output_type": "stream",
     "text": [
      "Found 810 files belonging to 8 classes.\n"
     ]
    }
   ],
   "source": [
    "test_dataSource=tf.keras.utils.image_dataset_from_directory(\n",
    "    'C:\\\\Users\\\\henry\\\\Downloads\\\\data\\\\test',\n",
    "    seed=123,\n",
    "    image_size=(300,300)\n",
    ")"
   ]
  },
  {
   "cell_type": "code",
   "execution_count": 28,
   "id": "123687bc",
   "metadata": {},
   "outputs": [
    {
     "name": "stdout",
     "output_type": "stream",
     "text": [
      "26/26 [==============================] - 20s 720ms/step - loss: 7.3979 - accuracy: 0.0000e+00\n",
      "INFO:tensorflow:Assets written to: modelo.h5py\\assets\n"
     ]
    },
    {
     "name": "stderr",
     "output_type": "stream",
     "text": [
      "INFO:tensorflow:Assets written to: modelo.h5py\\assets\n"
     ]
    }
   ],
   "source": [
    "modelo.evaluate(test_dataSource,return_dict=True)\n",
    "modelo.save(\"modelo.h5py\")"
   ]
  },
  {
   "cell_type": "code",
   "execution_count": 45,
   "id": "ea144e6c",
   "metadata": {
    "scrolled": true
   },
   "outputs": [
    {
     "name": "stdout",
     "output_type": "stream",
     "text": [
      "Found 810 images belonging to 8 classes.\n",
      "26/26 [==============================] - 20s 762ms/step\n"
     ]
    },
    {
     "name": "stderr",
     "output_type": "stream",
     "text": [
      "C:\\Users\\henry\\anaconda3\\lib\\site-packages\\mlxtend\\plotting\\plot_confusion_matrix.py:102: RuntimeWarning: invalid value encountered in divide\n",
      "  normed_conf_mat = conf_mat.astype(\"float\") / total_samples\n",
      "C:\\Users\\henry\\anaconda3\\lib\\site-packages\\sklearn\\metrics\\_classification.py:1344: UndefinedMetricWarning: Precision and F-score are ill-defined and being set to 0.0 in labels with no predicted samples. Use `zero_division` parameter to control this behavior.\n",
      "  _warn_prf(average, modifier, msg_start, len(result))\n",
      "C:\\Users\\henry\\anaconda3\\lib\\site-packages\\sklearn\\metrics\\_classification.py:1344: UndefinedMetricWarning: Recall and F-score are ill-defined and being set to 0.0 in labels with no true samples. Use `zero_division` parameter to control this behavior.\n",
      "  _warn_prf(average, modifier, msg_start, len(result))\n",
      "C:\\Users\\henry\\anaconda3\\lib\\site-packages\\sklearn\\metrics\\_classification.py:1344: UndefinedMetricWarning: Precision and F-score are ill-defined and being set to 0.0 in labels with no predicted samples. Use `zero_division` parameter to control this behavior.\n",
      "  _warn_prf(average, modifier, msg_start, len(result))\n",
      "C:\\Users\\henry\\anaconda3\\lib\\site-packages\\sklearn\\metrics\\_classification.py:1344: UndefinedMetricWarning: Recall and F-score are ill-defined and being set to 0.0 in labels with no true samples. Use `zero_division` parameter to control this behavior.\n",
      "  _warn_prf(average, modifier, msg_start, len(result))\n",
      "C:\\Users\\henry\\anaconda3\\lib\\site-packages\\sklearn\\metrics\\_classification.py:1344: UndefinedMetricWarning: Precision and F-score are ill-defined and being set to 0.0 in labels with no predicted samples. Use `zero_division` parameter to control this behavior.\n",
      "  _warn_prf(average, modifier, msg_start, len(result))\n",
      "C:\\Users\\henry\\anaconda3\\lib\\site-packages\\sklearn\\metrics\\_classification.py:1344: UndefinedMetricWarning: Recall and F-score are ill-defined and being set to 0.0 in labels with no true samples. Use `zero_division` parameter to control this behavior.\n",
      "  _warn_prf(average, modifier, msg_start, len(result))\n"
     ]
    },
    {
     "name": "stdout",
     "output_type": "stream",
     "text": [
      "              precision    recall  f1-score   support\n",
      "\n",
      "           0     0.0000    0.0000    0.0000       1.0\n",
      "           1     0.0000    0.0000    0.0000      48.0\n",
      "           2     0.0000    0.0000    0.0000      97.0\n",
      "           3     0.0000    0.0000    0.0000      45.0\n",
      "           4     0.0000    0.0000    0.0000     459.0\n",
      "           5     0.0000    0.0000    0.0000      19.0\n",
      "           6     0.0000    0.0000    0.0000     114.0\n",
      "           7     0.0000    0.0000    0.0000      27.0\n",
      "         365     0.0000    0.0000    0.0000       0.0\n",
      "         594     0.0000    0.0000    0.0000       0.0\n",
      "         647     0.0000    0.0000    0.0000       0.0\n",
      "         994     0.0000    0.0000    0.0000       0.0\n",
      "        1068     0.0000    0.0000    0.0000       0.0\n",
      "        1203     0.0000    0.0000    0.0000       0.0\n",
      "        1344     0.0000    0.0000    0.0000       0.0\n",
      "        1353     0.0000    0.0000    0.0000       0.0\n",
      "        1449     0.0000    0.0000    0.0000       0.0\n",
      "        1562     0.0000    0.0000    0.0000       0.0\n",
      "        1574     0.0000    0.0000    0.0000       0.0\n",
      "\n",
      "    accuracy                         0.0000     810.0\n",
      "   macro avg     0.0000    0.0000    0.0000     810.0\n",
      "weighted avg     0.0000    0.0000    0.0000     810.0\n",
      "\n"
     ]
    },
    {
     "data": {
      "image/png": "[encoded data removed]",
      "text/plain": [
       "<Figure size 800x800 with 1 Axes>"
      ]
     },
     "metadata": {},
     "output_type": "display_data"
    }
   ],
   "source": [
    "width_shape=300\n",
    "height_shape=300\n",
    "names=['CLASS_01','CLASS_02','CLASS_03','CLASS_04','CLASS_05','CLASS_06','CLASS_07','CLASS_08']\n",
    "test_data_dir = 'C:\\\\Users\\\\henry\\\\Downloads\\\\data\\\\test'\n",
    "test_datagen=ImageDataGenerator()\n",
    "test_generator=test_datagen.flow_from_directory(\n",
    "    test_data_dir,\n",
    "    target_size=(width_shape,height_shape),\n",
    "    class_mode='categorical',\n",
    "    shuffle=False)\n",
    "modelo=load_model(\"C:\\\\Users\\\\henry\\\\modelo.h5py\")\n",
    "predicciones=model.predict(test_generator)\n",
    "y_pred=np.argmax(predicciones,axis=1)\n",
    "y_real=test_generator.classes\n",
    "\n",
    "matc=confusion_matrix(y_real,y_pred)\n",
    "plot_confusion_matrix(conf_mat=matc, figsize=(8,8),show_normed=False)\n",
    "plt.tight_layout()\n",
    "\n",
    "print(metrics.classification_report(y_real,y_pred,digits=4))"
   ]
  },
  {
   "cell_type": "code",
   "execution_count": null,
   "id": "cdc30869",
   "metadata": {},
   "outputs": [],
   "source": []
  }
 ],
 "metadata": {
  "kernelspec": {
   "display_name": "Python 3 (ipykernel)",
   "language": "python",
   "name": "python3"
  },
  "language_info": {
   "codemirror_mode": {
    "name": "ipython",
    "version": 3
   },
   "file_extension": ".py",
   "mimetype": "text/x-python",
   "name": "python",
   "nbconvert_exporter": "python",
   "pygments_lexer": "ipython3",
   "version": "3.10.9"
  }
 },
 "nbformat": 4,
 "nbformat_minor": 5
}
